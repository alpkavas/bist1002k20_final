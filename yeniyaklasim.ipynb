{
 "cells": [
  {
   "cell_type": "code",
   "execution_count": 10,
   "id": "1a390021",
   "metadata": {},
   "outputs": [
    {
     "name": "stdout",
     "output_type": "stream",
     "text": [
      "Yeni hedef değişkeni oluşturuldu!\n",
      "           Date          Close  Risk_Yarin_Dusecek_mi\n",
      "5142 2020-07-20  119280.898438                      1\n",
      "5143 2020-07-21  118042.000000                      0\n",
      "5144 2020-07-22  118079.898438                      0\n",
      "5145 2020-07-23  119031.203125                      0\n",
      "5146 2020-07-24  119201.601562                      0\n"
     ]
    }
   ],
   "source": [
    "import pandas as pd\n",
    "from xgboost import XGBClassifier\n",
    "from sklearn.model_selection import GridSearchCV\n",
    "from sklearn.metrics import classification_report, confusion_matrix\n",
    "\n",
    "# Veriyi yeniden yükleyelim\n",
    "df = pd.read_excel(\"BIST100.xlsx\")\n",
    "\n",
    "# --- YENİ HEDEF DEĞİŞKENİ ---\n",
    "# 'Risk_Yarin_Dusecek_mi' adında yeni bir kolon oluşturalım.\n",
    "# Yarının kapanış fiyatı (shift(-1)), bugünün kapanış fiyatından düşükse 1 (Riskli), değilse 0 (Risksiz) olsun.\n",
    "df['Risk_Yarin_Dusecek_mi'] = (df['Close'].shift(-1) < df['Close']).astype(int)\n",
    "\n",
    "# shift(-1) nedeniyle son satırda NaN (boş değer) oluşur, bu satırı temizleyelim.\n",
    "df = df.dropna()\n",
    "\n",
    "print(\"Yeni hedef değişkeni oluşturuldu!\")\n",
    "print(df[['Date', 'Close', 'Risk_Yarin_Dusecek_mi']].tail())"
   ]
  },
  {
   "cell_type": "code",
   "execution_count": 11,
   "id": "e82f908c",
   "metadata": {},
   "outputs": [],
   "source": [
    "# Özellikler (X) -> Tahmin için kullanacağımız veriler\n",
    "# Hedef (y) -> Tahmin etmek istediğimiz sonuç (Yarın Düşecek mi?)\n",
    "\n",
    "# Dikkat: Orijinal 'Risk' kolonunu artık kullanmıyoruz.\n",
    "X = df[[\"Open\", \"High\", \"Low\", \"Close\", \"Adj Close\", \"Volume\"]] \n",
    "y = df[\"Risk_Yarin_Dusecek_mi\"]"
   ]
  },
  {
   "cell_type": "code",
   "execution_count": 12,
   "id": "188e8fe4",
   "metadata": {},
   "outputs": [
    {
     "name": "stdout",
     "output_type": "stream",
     "text": [
      "Eğitim verisi boyutu: 4117\n",
      "Test verisi boyutu: 1030\n"
     ]
    }
   ],
   "source": [
    "# Verinin ilk %80'ini eğitim, son %20'sini test seti olarak ayıralım.\n",
    "train_size = int(len(df) * 0.80)\n",
    "X_train, X_test = X[0:train_size], X[train_size:len(X)]\n",
    "y_train, y_test = y[0:train_size], y[train_size:len(y)]\n",
    "\n",
    "print(f\"Eğitim verisi boyutu: {len(X_train)}\")\n",
    "print(f\"Test verisi boyutu: {len(X_test)}\")"
   ]
  },
  {
   "cell_type": "code",
   "execution_count": 13,
   "id": "9f1fa2a4",
   "metadata": {},
   "outputs": [
    {
     "name": "stdout",
     "output_type": "stream",
     "text": [
      "Fitting 3 folds for each of 8 candidates, totalling 24 fits\n"
     ]
    },
    {
     "name": "stderr",
     "output_type": "stream",
     "text": [
      "C:\\Users\\pc\\AppData\\Roaming\\Python\\Python312\\site-packages\\xgboost\\training.py:183: UserWarning: [20:01:24] WARNING: C:\\actions-runner\\_work\\xgboost\\xgboost\\src\\learner.cc:738: \n",
      "Parameters: { \"use_label_encoder\" } are not used.\n",
      "\n",
      "  bst.update(dtrain, iteration=i, fobj=obj)\n",
      "C:\\Users\\pc\\AppData\\Roaming\\Python\\Python312\\site-packages\\xgboost\\training.py:183: UserWarning: [20:01:24] WARNING: C:\\actions-runner\\_work\\xgboost\\xgboost\\src\\learner.cc:738: \n",
      "Parameters: { \"use_label_encoder\" } are not used.\n",
      "\n",
      "  bst.update(dtrain, iteration=i, fobj=obj)\n",
      "C:\\Users\\pc\\AppData\\Roaming\\Python\\Python312\\site-packages\\xgboost\\training.py:183: UserWarning: [20:01:24] WARNING: C:\\actions-runner\\_work\\xgboost\\xgboost\\src\\learner.cc:738: \n",
      "Parameters: { \"use_label_encoder\" } are not used.\n",
      "\n",
      "  bst.update(dtrain, iteration=i, fobj=obj)\n",
      "C:\\Users\\pc\\AppData\\Roaming\\Python\\Python312\\site-packages\\xgboost\\training.py:183: UserWarning: [20:01:24] WARNING: C:\\actions-runner\\_work\\xgboost\\xgboost\\src\\learner.cc:738: \n",
      "Parameters: { \"use_label_encoder\" } are not used.\n",
      "\n",
      "  bst.update(dtrain, iteration=i, fobj=obj)\n",
      "C:\\Users\\pc\\AppData\\Roaming\\Python\\Python312\\site-packages\\xgboost\\training.py:183: UserWarning: [20:01:24] WARNING: C:\\actions-runner\\_work\\xgboost\\xgboost\\src\\learner.cc:738: \n",
      "Parameters: { \"use_label_encoder\" } are not used.\n",
      "\n",
      "  bst.update(dtrain, iteration=i, fobj=obj)\n",
      "C:\\Users\\pc\\AppData\\Roaming\\Python\\Python312\\site-packages\\xgboost\\training.py:183: UserWarning: [20:01:24] WARNING: C:\\actions-runner\\_work\\xgboost\\xgboost\\src\\learner.cc:738: \n",
      "Parameters: { \"use_label_encoder\" } are not used.\n",
      "\n",
      "  bst.update(dtrain, iteration=i, fobj=obj)\n",
      "C:\\Users\\pc\\AppData\\Roaming\\Python\\Python312\\site-packages\\xgboost\\training.py:183: UserWarning: [20:01:24] WARNING: C:\\actions-runner\\_work\\xgboost\\xgboost\\src\\learner.cc:738: \n",
      "Parameters: { \"use_label_encoder\" } are not used.\n",
      "\n",
      "  bst.update(dtrain, iteration=i, fobj=obj)\n",
      "C:\\Users\\pc\\AppData\\Roaming\\Python\\Python312\\site-packages\\xgboost\\training.py:183: UserWarning: [20:01:24] WARNING: C:\\actions-runner\\_work\\xgboost\\xgboost\\src\\learner.cc:738: \n",
      "Parameters: { \"use_label_encoder\" } are not used.\n",
      "\n",
      "  bst.update(dtrain, iteration=i, fobj=obj)\n",
      "C:\\Users\\pc\\AppData\\Roaming\\Python\\Python312\\site-packages\\xgboost\\training.py:183: UserWarning: [20:01:24] WARNING: C:\\actions-runner\\_work\\xgboost\\xgboost\\src\\learner.cc:738: \n",
      "Parameters: { \"use_label_encoder\" } are not used.\n",
      "\n",
      "  bst.update(dtrain, iteration=i, fobj=obj)\n",
      "C:\\Users\\pc\\AppData\\Roaming\\Python\\Python312\\site-packages\\xgboost\\training.py:183: UserWarning: [20:01:24] WARNING: C:\\actions-runner\\_work\\xgboost\\xgboost\\src\\learner.cc:738: \n",
      "Parameters: { \"use_label_encoder\" } are not used.\n",
      "\n",
      "  bst.update(dtrain, iteration=i, fobj=obj)\n",
      "C:\\Users\\pc\\AppData\\Roaming\\Python\\Python312\\site-packages\\xgboost\\training.py:183: UserWarning: [20:01:24] WARNING: C:\\actions-runner\\_work\\xgboost\\xgboost\\src\\learner.cc:738: \n",
      "Parameters: { \"use_label_encoder\" } are not used.\n",
      "\n",
      "  bst.update(dtrain, iteration=i, fobj=obj)\n",
      "C:\\Users\\pc\\AppData\\Roaming\\Python\\Python312\\site-packages\\xgboost\\training.py:183: UserWarning: [20:01:25] WARNING: C:\\actions-runner\\_work\\xgboost\\xgboost\\src\\learner.cc:738: \n",
      "Parameters: { \"use_label_encoder\" } are not used.\n",
      "\n",
      "  bst.update(dtrain, iteration=i, fobj=obj)\n",
      "C:\\Users\\pc\\AppData\\Roaming\\Python\\Python312\\site-packages\\xgboost\\training.py:183: UserWarning: [20:01:25] WARNING: C:\\actions-runner\\_work\\xgboost\\xgboost\\src\\learner.cc:738: \n",
      "Parameters: { \"use_label_encoder\" } are not used.\n",
      "\n",
      "  bst.update(dtrain, iteration=i, fobj=obj)\n",
      "C:\\Users\\pc\\AppData\\Roaming\\Python\\Python312\\site-packages\\xgboost\\training.py:183: UserWarning: [20:01:25] WARNING: C:\\actions-runner\\_work\\xgboost\\xgboost\\src\\learner.cc:738: \n",
      "Parameters: { \"use_label_encoder\" } are not used.\n",
      "\n",
      "  bst.update(dtrain, iteration=i, fobj=obj)\n",
      "C:\\Users\\pc\\AppData\\Roaming\\Python\\Python312\\site-packages\\xgboost\\training.py:183: UserWarning: [20:01:25] WARNING: C:\\actions-runner\\_work\\xgboost\\xgboost\\src\\learner.cc:738: \n",
      "Parameters: { \"use_label_encoder\" } are not used.\n",
      "\n",
      "  bst.update(dtrain, iteration=i, fobj=obj)\n",
      "C:\\Users\\pc\\AppData\\Roaming\\Python\\Python312\\site-packages\\xgboost\\training.py:183: UserWarning: [20:01:25] WARNING: C:\\actions-runner\\_work\\xgboost\\xgboost\\src\\learner.cc:738: \n",
      "Parameters: { \"use_label_encoder\" } are not used.\n",
      "\n",
      "  bst.update(dtrain, iteration=i, fobj=obj)\n",
      "C:\\Users\\pc\\AppData\\Roaming\\Python\\Python312\\site-packages\\xgboost\\training.py:183: UserWarning: [20:01:25] WARNING: C:\\actions-runner\\_work\\xgboost\\xgboost\\src\\learner.cc:738: \n",
      "Parameters: { \"use_label_encoder\" } are not used.\n",
      "\n",
      "  bst.update(dtrain, iteration=i, fobj=obj)\n",
      "C:\\Users\\pc\\AppData\\Roaming\\Python\\Python312\\site-packages\\xgboost\\training.py:183: UserWarning: [20:01:25] WARNING: C:\\actions-runner\\_work\\xgboost\\xgboost\\src\\learner.cc:738: \n",
      "Parameters: { \"use_label_encoder\" } are not used.\n",
      "\n",
      "  bst.update(dtrain, iteration=i, fobj=obj)\n",
      "C:\\Users\\pc\\AppData\\Roaming\\Python\\Python312\\site-packages\\xgboost\\training.py:183: UserWarning: [20:01:25] WARNING: C:\\actions-runner\\_work\\xgboost\\xgboost\\src\\learner.cc:738: \n",
      "Parameters: { \"use_label_encoder\" } are not used.\n",
      "\n",
      "  bst.update(dtrain, iteration=i, fobj=obj)\n",
      "C:\\Users\\pc\\AppData\\Roaming\\Python\\Python312\\site-packages\\xgboost\\training.py:183: UserWarning: [20:01:25] WARNING: C:\\actions-runner\\_work\\xgboost\\xgboost\\src\\learner.cc:738: \n",
      "Parameters: { \"use_label_encoder\" } are not used.\n",
      "\n",
      "  bst.update(dtrain, iteration=i, fobj=obj)\n",
      "C:\\Users\\pc\\AppData\\Roaming\\Python\\Python312\\site-packages\\xgboost\\training.py:183: UserWarning: [20:01:25] WARNING: C:\\actions-runner\\_work\\xgboost\\xgboost\\src\\learner.cc:738: \n",
      "Parameters: { \"use_label_encoder\" } are not used.\n",
      "\n",
      "  bst.update(dtrain, iteration=i, fobj=obj)\n",
      "C:\\Users\\pc\\AppData\\Roaming\\Python\\Python312\\site-packages\\xgboost\\training.py:183: UserWarning: [20:01:25] WARNING: C:\\actions-runner\\_work\\xgboost\\xgboost\\src\\learner.cc:738: \n",
      "Parameters: { \"use_label_encoder\" } are not used.\n",
      "\n",
      "  bst.update(dtrain, iteration=i, fobj=obj)\n",
      "C:\\Users\\pc\\AppData\\Roaming\\Python\\Python312\\site-packages\\xgboost\\training.py:183: UserWarning: [20:01:26] WARNING: C:\\actions-runner\\_work\\xgboost\\xgboost\\src\\learner.cc:738: \n",
      "Parameters: { \"use_label_encoder\" } are not used.\n",
      "\n",
      "  bst.update(dtrain, iteration=i, fobj=obj)\n",
      "C:\\Users\\pc\\AppData\\Roaming\\Python\\Python312\\site-packages\\xgboost\\training.py:183: UserWarning: [20:01:26] WARNING: C:\\actions-runner\\_work\\xgboost\\xgboost\\src\\learner.cc:738: \n",
      "Parameters: { \"use_label_encoder\" } are not used.\n",
      "\n",
      "  bst.update(dtrain, iteration=i, fobj=obj)\n"
     ]
    },
    {
     "name": "stdout",
     "output_type": "stream",
     "text": [
      "\\nEn İyi Parametreler: {'learning_rate': 0.1, 'max_depth': 5, 'n_estimators': 200}\n",
      "\\n--- KARMAŞIKLIK MATRİSİ ---\n",
      "[[ 69 476]\n",
      " [ 66 419]]\n",
      "\\n--- SINIFLANDIRMA RAPORU ---\n",
      "              precision    recall  f1-score   support\n",
      "\n",
      "           0       0.51      0.13      0.20       545\n",
      "           1       0.47      0.86      0.61       485\n",
      "\n",
      "    accuracy                           0.47      1030\n",
      "   macro avg       0.49      0.50      0.41      1030\n",
      "weighted avg       0.49      0.47      0.39      1030\n",
      "\n"
     ]
    },
    {
     "name": "stderr",
     "output_type": "stream",
     "text": [
      "C:\\Users\\pc\\AppData\\Roaming\\Python\\Python312\\site-packages\\xgboost\\training.py:183: UserWarning: [20:01:26] WARNING: C:\\actions-runner\\_work\\xgboost\\xgboost\\src\\learner.cc:738: \n",
      "Parameters: { \"use_label_encoder\" } are not used.\n",
      "\n",
      "  bst.update(dtrain, iteration=i, fobj=obj)\n"
     ]
    }
   ],
   "source": [
    "# XGBoost için denenecek parametre setleri\n",
    "param_grid = {\n",
    "    'max_depth': [3, 5],\n",
    "    'learning_rate': [0.01, 0.1],\n",
    "    'n_estimators': [100, 200]\n",
    "}\n",
    "\n",
    "# Modeli ve GridSearchCV'yi oluşturalım\n",
    "# 'f1' skoruna göre en iyi modeli bulmasını söylüyoruz, çünkü verimiz dengesiz.\n",
    "grid_search = GridSearchCV(estimator=XGBClassifier(use_label_encoder=False, eval_metric='logloss'), \n",
    "                           param_grid=param_grid, \n",
    "                           scoring='f1', \n",
    "                           cv=3,  # Çapraz doğrulama kat sayısı\n",
    "                           verbose=1)\n",
    "\n",
    "# En iyi parametreleri bulmak için modeli eğitelim\n",
    "grid_search.fit(X_train, y_train)\n",
    "\n",
    "# En iyi model ile tahmin yapalım\n",
    "best_model = grid_search.best_estimator_\n",
    "y_pred = best_model.predict(X_test)\n",
    "\n",
    "# --- SONUÇLARI YORUMLAMA ---\n",
    "print(\"\\\\nEn İyi Parametreler:\", grid_search.best_params_)\n",
    "print(\"\\\\n--- KARMAŞIKLIK MATRİSİ ---\")\n",
    "print(confusion_matrix(y_test, y_pred))\n",
    "print(\"\\\\n--- SINIFLANDIRMA RAPORU ---\")\n",
    "print(classification_report(y_test, y_pred))"
   ]
  },
  {
   "cell_type": "code",
   "execution_count": 14,
   "id": "68fc1163",
   "metadata": {},
   "outputs": [
    {
     "name": "stderr",
     "output_type": "stream",
     "text": [
      "C:\\Users\\pc\\AppData\\Roaming\\Python\\Python312\\site-packages\\xgboost\\training.py:183: UserWarning: [20:01:26] WARNING: C:\\actions-runner\\_work\\xgboost\\xgboost\\src\\learner.cc:738: \n",
      "Parameters: { \"use_label_encoder\" } are not used.\n",
      "\n",
      "  bst.update(dtrain, iteration=i, fobj=obj)\n"
     ]
    },
    {
     "name": "stdout",
     "output_type": "stream",
     "text": [
      "--- YENİ ÖZELLİKLERLE SINIFLANDIRMA RAPORU ---\n",
      "              precision    recall  f1-score   support\n",
      "\n",
      "           0       0.43      0.08      0.13       544\n",
      "           1       0.46      0.88      0.60       482\n",
      "\n",
      "    accuracy                           0.46      1026\n",
      "   macro avg       0.44      0.48      0.37      1026\n",
      "weighted avg       0.44      0.46      0.35      1026\n",
      "\n"
     ]
    }
   ],
   "source": [
    "# --- ADIM 1: GÜÇLÜ YENİ ÖZELLİKLER OLUŞTURALIM ---\n",
    "\n",
    "# 1. Hareketli Ortalamalar (Momentum Göstergesi)\n",
    "# Fiyatın genel yönü hakkında fikir verir.\n",
    "df['MA_5'] = df['Close'].rolling(window=5).mean()  # Kısa vadeli trend\n",
    "df['MA_20'] = df['Close'].rolling(window=20).mean() # Orta vadeli trend\n",
    "\n",
    "# 2. Göreceli Güç Endeksi - RSI (Momentum Göstergesi)\n",
    "# Fiyat hareketlerinin hızını ve değişimini ölçer. Genellikle 14 günlük kullanılır.\n",
    "delta = df['Close'].diff(1)\n",
    "gain = (delta.where(delta > 0, 0)).rolling(window=14).mean()\n",
    "loss = (-delta.where(delta < 0, 0)).rolling(window=14).mean()\n",
    "rs = gain / loss\n",
    "df['RSI'] = 100 - (100 / (1 + rs))\n",
    "\n",
    "# 3. Hareketli Ortalama Yakınsama/Iraksama - MACD (Momentum Göstergesi)\n",
    "# İki hareketli ortalama arasındaki ilişkiyi gösterir.\n",
    "exp1 = df['Close'].ewm(span=12, adjust=False).mean()\n",
    "exp2 = df['Close'].ewm(span=26, adjust=False).mean()\n",
    "df['MACD'] = exp1 - exp2\n",
    "\n",
    "# 4. Gecikme Özellikleri (Lag Features)\n",
    "# Modelin dünkü ve önceki günkü fiyatları hatırlamasını sağlar.\n",
    "df['Close_Lag_1'] = df['Close'].shift(1) # Dünkü kapanış\n",
    "df['Volume_Lag_1'] = df['Volume'].shift(1) # Dünkü işlem hacmi\n",
    "\n",
    "# 5. Volatilite Oranı (Oynaklık Göstergesi)\n",
    "# Fiyatlardaki oynaklığı ölçer.\n",
    "df['Volatility'] = df['Close'].rolling(window=10).std() / df['Close'].rolling(window=10).mean()\n",
    "\n",
    "# Oluşturduğumuz yeni özellikler nedeniyle oluşacak NaN değerlerini temizleyelim\n",
    "df = df.dropna()\n",
    "\n",
    "\n",
    "# --- ADIM 2: YENİ ÖZELLİKLERLE MODELİ TEKRAR EĞİTELİM ---\n",
    "\n",
    "# Yeni özellik setimizi (X) tanımlayalım\n",
    "X_new = df[[\n",
    "    \"Open\", \"High\", \"Low\", \"Close\", \"Volume\",\n",
    "    \"MA_5\", \"MA_20\", \"RSI\", \"MACD\", \"Close_Lag_1\", \"Volume_Lag_1\", \"Volatility\"\n",
    "]]\n",
    "\n",
    "# Hedef (y) aynı kalıyor\n",
    "y_new = df[\"Risk_Yarin_Dusecek_mi\"]\n",
    "\n",
    "# Veriyi yeniden kronolojik olarak bölelim\n",
    "train_size = int(len(df) * 0.80)\n",
    "X_train_new, X_test_new = X_new[0:train_size], X_new[train_size:len(X_new)]\n",
    "y_train_new, y_test_new = y_new[0:train_size], y_new[train_size:len(y_new)]\n",
    "\n",
    "# En iyi modelimizi bu yeni ve güçlü özelliklerle tekrar eğitelim\n",
    "# (Bir önceki adımdaki `best_model` veya `grid_search.best_estimator_` kullanılabilir)\n",
    "best_model.fit(X_train_new, y_train_new)\n",
    "y_pred_new = best_model.predict(X_test_new)\n",
    "\n",
    "\n",
    "# --- ADIM 3: YENİ SONUÇLARI GÖRELİM! ---\n",
    "print(\"--- YENİ ÖZELLİKLERLE SINIFLANDIRMA RAPORU ---\")\n",
    "print(classification_report(y_test_new, y_pred_new))"
   ]
  },
  {
   "cell_type": "code",
   "execution_count": 15,
   "id": "f5f476bc",
   "metadata": {},
   "outputs": [
    {
     "name": "stderr",
     "output_type": "stream",
     "text": [
      "C:\\Users\\pc\\AppData\\Roaming\\Python\\Python312\\site-packages\\xgboost\\training.py:183: UserWarning: [20:01:26] WARNING: C:\\actions-runner\\_work\\xgboost\\xgboost\\src\\learner.cc:738: \n",
      "Parameters: { \"use_label_encoder\" } are not used.\n",
      "\n",
      "  bst.update(dtrain, iteration=i, fobj=obj)\n"
     ]
    },
    {
     "name": "stdout",
     "output_type": "stream",
     "text": [
      "--- DENGELENMİŞ MODEL SINIFLANDIRMA RAPORU ---\n",
      "              precision    recall  f1-score   support\n",
      "\n",
      "           0       0.45      0.12      0.19       544\n",
      "           1       0.46      0.84      0.59       482\n",
      "\n",
      "    accuracy                           0.46      1026\n",
      "   macro avg       0.46      0.48      0.39      1026\n",
      "weighted avg       0.46      0.46      0.38      1026\n",
      "\n"
     ]
    }
   ],
   "source": [
    "from xgboost import XGBClassifier\n",
    "from sklearn.metrics import classification_report\n",
    "\n",
    "# Sınıfların sayısını hesaplayalım\n",
    "# '0' sınıfının sayısı / '1' sınıfının sayısı\n",
    "scale_pos_weight = y_train_new.value_counts()[0] / y_train_new.value_counts()[1]\n",
    "\n",
    "# Modeli bu yeni parametre ile tekrar oluşturalım\n",
    "# En iyi parametreleri kullanmaya devam ediyoruz\n",
    "dengeli_model = XGBClassifier(\n",
    "    learning_rate=0.1, \n",
    "    max_depth=5, \n",
    "    n_estimators=200,\n",
    "    scale_pos_weight=scale_pos_weight,  # <-- SİHİRLİ DOKUNUŞ!\n",
    "    use_label_encoder=False, \n",
    "    eval_metric='logloss'\n",
    ")\n",
    "\n",
    "# Modeli eğitelim\n",
    "dengeli_model.fit(X_train_new, y_train_new)\n",
    "\n",
    "# Tahmin yapalım\n",
    "y_pred_dengeli = dengeli_model.predict(X_test_new)\n",
    "\n",
    "# Yeni ve daha dengeli sonuçları görelim!\n",
    "print(\"--- DENGELENMİŞ MODEL SINIFLANDIRMA RAPORU ---\")\n",
    "print(classification_report(y_test_new, y_pred_dengeli))"
   ]
  },
  {
   "cell_type": "code",
   "execution_count": 16,
   "id": "710e9181",
   "metadata": {},
   "outputs": [
    {
     "name": "stderr",
     "output_type": "stream",
     "text": [
      "C:\\Users\\pc\\AppData\\Roaming\\Python\\Python312\\site-packages\\xgboost\\training.py:183: UserWarning: [20:01:26] WARNING: C:\\actions-runner\\_work\\xgboost\\xgboost\\src\\learner.cc:738: \n",
      "Parameters: { \"use_label_encoder\" } are not used.\n",
      "\n",
      "  bst.update(dtrain, iteration=i, fobj=obj)\n"
     ]
    },
    {
     "data": {
      "image/png": "[encoded data removed]",
      "text/plain": [
       "<Figure size 1000x800 with 1 Axes>"
      ]
     },
     "metadata": {},
     "output_type": "display_data"
    },
    {
     "name": "stdout",
     "output_type": "stream",
     "text": [
      "İşte modelimizin en çok dikkate aldığı özellikler:\n",
      "         feature  importance\n",
      "9    Close_Lag_1    0.100063\n",
      "5           MA_5    0.097373\n",
      "6          MA_20    0.088659\n",
      "11    Volatility    0.084277\n",
      "2            Low    0.082807\n",
      "10  Volume_Lag_1    0.080907\n",
      "3          Close    0.080708\n",
      "8           MACD    0.079355\n",
      "0           Open    0.077109\n",
      "4         Volume    0.076740\n",
      "7            RSI    0.076170\n",
      "1           High    0.075832\n"
     ]
    }
   ],
   "source": [
    "import pandas as pd\n",
    "import matplotlib.pyplot as plt\n",
    "import seaborn as sns\n",
    "from xgboost import XGBClassifier\n",
    "\n",
    "# Bu kod, bir önceki adımda oluşturduğun\n",
    "# X_train_new ve y_train_new verilerini kullandığını varsayar.\n",
    "\n",
    "# En iyi parametrelerle modeli yeniden oluşturalım\n",
    "# (Not: scale_pos_weight olmadan, çünkü amacımız özelliklerin doğal önemini görmek)\n",
    "model_feature_importance = XGBClassifier(\n",
    "    learning_rate=0.1, \n",
    "    max_depth=5, \n",
    "    n_estimators=200,\n",
    "    use_label_encoder=False, \n",
    "    eval_metric='logloss'\n",
    ")\n",
    "\n",
    "# Modeli eğitelim\n",
    "model_feature_importance.fit(X_train_new, y_train_new)\n",
    "\n",
    "# Özellik önem skorlarını bir DataFrame'e aktaralım\n",
    "feature_importances = pd.DataFrame({\n",
    "    'feature': X_train_new.columns,\n",
    "    'importance': model_feature_importance.feature_importances_\n",
    "}).sort_values('importance', ascending=False)\n",
    "\n",
    "# Görselleştirelim!\n",
    "plt.figure(figsize=(10, 8))\n",
    "sns.barplot(x='importance', y='feature', data=feature_importances)\n",
    "plt.title('Model İçin En Önemli Özellikler')\n",
    "plt.xlabel('Önem Derecesi')\n",
    "plt.ylabel('Özellikler')\n",
    "plt.show()\n",
    "\n",
    "print(\"İşte modelimizin en çok dikkate aldığı özellikler:\")\n",
    "print(feature_importances)"
   ]
  },
  {
   "cell_type": "code",
   "execution_count": 17,
   "id": "6ec69140",
   "metadata": {},
   "outputs": [
    {
     "data": {
      "image/png": "[encoded data removed]",
      "text/plain": [
       "<Figure size 1000x700 with 1 Axes>"
      ]
     },
     "metadata": {},
     "output_type": "display_data"
    }
   ],
   "source": [
    "import numpy as np\n",
    "import matplotlib.pyplot as plt\n",
    "from sklearn.metrics import precision_recall_curve\n",
    "\n",
    "# Bu kod, bir önceki adımda eğittiğin `best_model` ve test verilerini kullandığını varsayar.\n",
    "# (X_test_new, y_test_new)\n",
    "\n",
    "# Modelin olasılık tahminlerini alalım\n",
    "# [:, 1] diyerek sadece '1' sınıfının (Düşüş Olacak) olasılıklarını alıyoruz\n",
    "y_pred_proba = best_model.predict_proba(X_test_new)[:, 1]\n",
    "\n",
    "# Farklı eşikler için precision ve recall değerlerini hesaplayalım\n",
    "precision, recall, thresholds = precision_recall_curve(y_test_new, y_pred_proba)\n",
    "\n",
    "# Grafiği çizdirelim!\n",
    "plt.figure(figsize=(10, 7))\n",
    "plt.plot(thresholds, precision[:-1], label=\"Precision\", color=\"blue\")\n",
    "plt.plot(thresholds, recall[:-1], label=\"Recall\", color=\"green\")\n",
    "plt.title('Precision-Recall Grafiği (Eşik Değerine Göre)', fontsize=16)\n",
    "plt.xlabel('Olasılık Eşiği (Threshold)', fontsize=12)\n",
    "plt.ylabel('Skor', fontsize=12)\n",
    "plt.legend()\n",
    "plt.grid(True)\n",
    "plt.show()"
   ]
  },
  {
   "cell_type": "code",
   "execution_count": 18,
   "id": "fdf66aa1",
   "metadata": {},
   "outputs": [
    {
     "name": "stdout",
     "output_type": "stream",
     "text": [
      "--- YENİ EŞİK DEĞERİ (0.82) İLE SINIFLANDIRMA RAPORU ---\n",
      "              precision    recall  f1-score   support\n",
      "\n",
      "           0       0.54      0.45      0.49       544\n",
      "           1       0.48      0.57      0.52       482\n",
      "\n",
      "    accuracy                           0.50      1026\n",
      "   macro avg       0.51      0.51      0.50      1026\n",
      "weighted avg       0.51      0.50      0.50      1026\n",
      "\n",
      "\n",
      "--- YENİ KARMAŞIKLIK MATRİSİ ---\n",
      "[[244 300]\n",
      " [209 273]]\n"
     ]
    }
   ],
   "source": [
    "from sklearn.metrics import classification_report, confusion_matrix\n",
    "\n",
    "# Bu kod, bir önceki adımda oluşturduğun \n",
    "# `best_model` ve test verilerini (X_test_new, y_test_new) kullandığını varsayar.\n",
    "\n",
    "# Modelin '1' sınıfı (Düşüş Olacak) için olasılık tahminlerini alalım\n",
    "y_pred_proba = best_model.predict_proba(X_test_new)[:, 1]\n",
    "\n",
    "# Grafikten bulduğumuz yeni ve akıllı eşik değerimiz!\n",
    "yeni_esik = 0.82\n",
    "\n",
    "# Yeni eşiğe göre tahminleri oluşturalım (0 veya 1)\n",
    "y_pred_yeni_esik = (y_pred_proba >= yeni_esik).astype(int)\n",
    "\n",
    "\n",
    "# --- FİNAL SONUÇLARI GÖRELİM! ---\n",
    "print(f\"--- YENİ EŞİK DEĞERİ ({yeni_esik}) İLE SINIFLANDIRMA RAPORU ---\")\n",
    "print(classification_report(y_test_new, y_pred_yeni_esik))\n",
    "\n",
    "print(\"\\n--- YENİ KARMAŞIKLIK MATRİSİ ---\")\n",
    "print(confusion_matrix(y_test_new, y_pred_yeni_esik))"
   ]
  },
  {
   "cell_type": "code",
   "execution_count": null,
   "id": "6b3488cd",
   "metadata": {},
   "outputs": [],
   "source": []
  }
 ],
 "metadata": {
  "kernelspec": {
   "display_name": "base",
   "language": "python",
   "name": "python3"
  },
  "language_info": {
   "codemirror_mode": {
    "name": "ipython",
    "version": 3
   },
   "file_extension": ".py",
   "mimetype": "text/x-python",
   "name": "python",
   "nbconvert_exporter": "python",
   "pygments_lexer": "ipython3",
   "version": "3.12.7"
  }
 },
 "nbformat": 4,
 "nbformat_minor": 5
}
